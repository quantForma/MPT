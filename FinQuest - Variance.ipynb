{
 "cells": [
  {
   "cell_type": "code",
   "execution_count": 1,
   "metadata": {},
   "outputs": [],
   "source": [
    "import quandl\n",
    "quandl.ApiConfig.api_key = \"idNBU8ZQFvkUE9fDgWyz\"\n",
    "import numpy as np\n",
    "import pandas as pd"
   ]
  },
  {
   "cell_type": "code",
   "execution_count": 2,
   "metadata": {},
   "outputs": [],
   "source": [
    "prices = quandl.get_table('SHARADAR/SEP', ticker=['AAPL', 'KO', 'NKE', 'TSLA', 'XOM'], date={'gte':'2017-01-01', 'lte':'2018-12-31'}, paginate=True)"
   ]
  },
  {
   "cell_type": "code",
   "execution_count": 3,
   "metadata": {},
   "outputs": [
    {
     "output_type": "execute_result",
     "data": {
      "text/plain": "     ticker       date   open    high    low  close      volume  dividends  \\\nNone                                                                         \n0       XOM 2018-12-31  68.32  69.145  67.66  68.19  15609337.0        0.0   \n1       XOM 2018-12-28  69.18  69.580  67.82  68.17  19617793.0        0.0   \n2       XOM 2018-12-27  67.74  68.940  66.08  68.94  21315318.0        0.0   \n3       XOM 2018-12-26  66.18  68.655  64.65  68.64  24403048.0        0.0   \n4       XOM 2018-12-24  66.87  67.530  65.44  65.51  14262074.0        0.0   \n\n      closeunadj lastupdated  \nNone                          \n0          68.19  2018-12-31  \n1          68.17  2018-12-28  \n2          68.94  2018-12-27  \n3          68.64  2018-12-26  \n4          65.51  2018-12-28  ",
      "text/html": "<div>\n<style scoped>\n    .dataframe tbody tr th:only-of-type {\n        vertical-align: middle;\n    }\n\n    .dataframe tbody tr th {\n        vertical-align: top;\n    }\n\n    .dataframe thead th {\n        text-align: right;\n    }\n</style>\n<table border=\"1\" class=\"dataframe\">\n  <thead>\n    <tr style=\"text-align: right;\">\n      <th></th>\n      <th>ticker</th>\n      <th>date</th>\n      <th>open</th>\n      <th>high</th>\n      <th>low</th>\n      <th>close</th>\n      <th>volume</th>\n      <th>dividends</th>\n      <th>closeunadj</th>\n      <th>lastupdated</th>\n    </tr>\n    <tr>\n      <th>None</th>\n      <th></th>\n      <th></th>\n      <th></th>\n      <th></th>\n      <th></th>\n      <th></th>\n      <th></th>\n      <th></th>\n      <th></th>\n      <th></th>\n    </tr>\n  </thead>\n  <tbody>\n    <tr>\n      <th>0</th>\n      <td>XOM</td>\n      <td>2018-12-31</td>\n      <td>68.32</td>\n      <td>69.145</td>\n      <td>67.66</td>\n      <td>68.19</td>\n      <td>15609337.0</td>\n      <td>0.0</td>\n      <td>68.19</td>\n      <td>2018-12-31</td>\n    </tr>\n    <tr>\n      <th>1</th>\n      <td>XOM</td>\n      <td>2018-12-28</td>\n      <td>69.18</td>\n      <td>69.580</td>\n      <td>67.82</td>\n      <td>68.17</td>\n      <td>19617793.0</td>\n      <td>0.0</td>\n      <td>68.17</td>\n      <td>2018-12-28</td>\n    </tr>\n    <tr>\n      <th>2</th>\n      <td>XOM</td>\n      <td>2018-12-27</td>\n      <td>67.74</td>\n      <td>68.940</td>\n      <td>66.08</td>\n      <td>68.94</td>\n      <td>21315318.0</td>\n      <td>0.0</td>\n      <td>68.94</td>\n      <td>2018-12-27</td>\n    </tr>\n    <tr>\n      <th>3</th>\n      <td>XOM</td>\n      <td>2018-12-26</td>\n      <td>66.18</td>\n      <td>68.655</td>\n      <td>64.65</td>\n      <td>68.64</td>\n      <td>24403048.0</td>\n      <td>0.0</td>\n      <td>68.64</td>\n      <td>2018-12-26</td>\n    </tr>\n    <tr>\n      <th>4</th>\n      <td>XOM</td>\n      <td>2018-12-24</td>\n      <td>66.87</td>\n      <td>67.530</td>\n      <td>65.44</td>\n      <td>65.51</td>\n      <td>14262074.0</td>\n      <td>0.0</td>\n      <td>65.51</td>\n      <td>2018-12-28</td>\n    </tr>\n  </tbody>\n</table>\n</div>"
     },
     "metadata": {},
     "execution_count": 3
    }
   ],
   "source": [
    "prices.head()"
   ]
  },
  {
   "cell_type": "code",
   "execution_count": 4,
   "metadata": {},
   "outputs": [],
   "source": [
    "pivoted = prices.pivot(index='date', columns='ticker', values='close')"
   ]
  },
  {
   "cell_type": "code",
   "execution_count": 5,
   "metadata": {},
   "outputs": [
    {
     "output_type": "execute_result",
     "data": {
      "text/plain": "ticker        AAPL     KO    NKE    TSLA    XOM\ndate                                           \n2018-09-04  228.36  44.76  79.60  288.95  80.29\n2018-09-05  226.87  45.38  79.92  280.74  81.36\n2018-09-06  223.10  45.77  80.40  280.95  80.46\n2018-09-07  221.30  45.72  80.30  263.24  81.83\n2018-09-10  218.33  46.06  82.10  285.50  81.71",
      "text/html": "<div>\n<style scoped>\n    .dataframe tbody tr th:only-of-type {\n        vertical-align: middle;\n    }\n\n    .dataframe tbody tr th {\n        vertical-align: top;\n    }\n\n    .dataframe thead th {\n        text-align: right;\n    }\n</style>\n<table border=\"1\" class=\"dataframe\">\n  <thead>\n    <tr style=\"text-align: right;\">\n      <th>ticker</th>\n      <th>AAPL</th>\n      <th>KO</th>\n      <th>NKE</th>\n      <th>TSLA</th>\n      <th>XOM</th>\n    </tr>\n    <tr>\n      <th>date</th>\n      <th></th>\n      <th></th>\n      <th></th>\n      <th></th>\n      <th></th>\n    </tr>\n  </thead>\n  <tbody>\n    <tr>\n      <th>2018-09-04</th>\n      <td>228.36</td>\n      <td>44.76</td>\n      <td>79.60</td>\n      <td>288.95</td>\n      <td>80.29</td>\n    </tr>\n    <tr>\n      <th>2018-09-05</th>\n      <td>226.87</td>\n      <td>45.38</td>\n      <td>79.92</td>\n      <td>280.74</td>\n      <td>81.36</td>\n    </tr>\n    <tr>\n      <th>2018-09-06</th>\n      <td>223.10</td>\n      <td>45.77</td>\n      <td>80.40</td>\n      <td>280.95</td>\n      <td>80.46</td>\n    </tr>\n    <tr>\n      <th>2018-09-07</th>\n      <td>221.30</td>\n      <td>45.72</td>\n      <td>80.30</td>\n      <td>263.24</td>\n      <td>81.83</td>\n    </tr>\n    <tr>\n      <th>2018-09-10</th>\n      <td>218.33</td>\n      <td>46.06</td>\n      <td>82.10</td>\n      <td>285.50</td>\n      <td>81.71</td>\n    </tr>\n  </tbody>\n</table>\n</div>"
     },
     "metadata": {},
     "execution_count": 5
    }
   ],
   "source": [
    "pivoted.head()"
   ]
  },
  {
   "cell_type": "markdown",
   "metadata": {},
   "source": [
    "# Variance"
   ]
  },
  {
   "cell_type": "markdown",
   "metadata": {},
   "source": [
    "$$s^2 = \\frac{\\sum_{i=1}^N (x_i - \\bar{x})^2}{N-1}$$"
   ]
  },
  {
   "cell_type": "code",
   "execution_count": 6,
   "metadata": {},
   "outputs": [
    {
     "output_type": "execute_result",
     "data": {
      "text/plain": "date\n2018-09-04         NaN\n2018-09-05   -0.006546\n2018-09-06   -0.016757\n2018-09-07   -0.008101\n2018-09-10   -0.013512\nName: AAPL, dtype: float64"
     },
     "metadata": {},
     "execution_count": 6
    }
   ],
   "source": [
    "aapl = pivoted['AAPL'].pct_change().apply(lambda x: np.log(1+x))\n",
    "aapl.head()"
   ]
  },
  {
   "cell_type": "code",
   "execution_count": 7,
   "metadata": {},
   "outputs": [
    {
     "output_type": "execute_result",
     "data": {
      "text/plain": "-0.004567595347237202"
     },
     "metadata": {},
     "execution_count": 7
    }
   ],
   "source": [
    "mean_aapl = aapl.sum()/aapl.count()\n",
    "mean_aapl"
   ]
  },
  {
   "cell_type": "code",
   "execution_count": 8,
   "metadata": {},
   "outputs": [
    {
     "output_type": "execute_result",
     "data": {
      "text/plain": "date\n2018-09-04         NaN\n2018-09-05    0.000004\n2018-09-06    0.000149\n2018-09-07    0.000012\n2018-09-10    0.000080\nName: AAPL, dtype: float64"
     },
     "metadata": {},
     "execution_count": 8
    }
   ],
   "source": [
    "sqd_aapl = aapl.apply(lambda x: (x-mean_aapl)**2)\n",
    "sqd_aapl.head()"
   ]
  },
  {
   "cell_type": "code",
   "execution_count": 9,
   "metadata": {},
   "outputs": [
    {
     "output_type": "execute_result",
     "data": {
      "text/plain": "0.044229969504156696"
     },
     "metadata": {},
     "execution_count": 9
    }
   ],
   "source": [
    "ssqd_aapl = sqd_aapl.sum()\n",
    "ssqd_aapl"
   ]
  },
  {
   "cell_type": "code",
   "execution_count": 10,
   "metadata": {},
   "outputs": [
    {
     "output_type": "execute_result",
     "data": {
      "text/plain": "0.0005528746188019587"
     },
     "metadata": {},
     "execution_count": 10
    }
   ],
   "source": [
    "var_aapl = ssqd_aapl/(aapl.count()-1)\n",
    "var_aapl"
   ]
  },
  {
   "cell_type": "code",
   "execution_count": 11,
   "metadata": {},
   "outputs": [
    {
     "output_type": "execute_result",
     "data": {
      "text/plain": "0.0005528746188019587"
     },
     "metadata": {},
     "execution_count": 11
    }
   ],
   "source": [
    "aapl.var()"
   ]
  },
  {
   "cell_type": "code",
   "execution_count": null,
   "metadata": {},
   "outputs": [],
   "source": []
  }
 ],
 "metadata": {
  "kernelspec": {
   "display_name": "Python 3.7.1 64-bit ('quant': conda)",
   "language": "python",
   "name": "python37164bitquantcondaf5cd01ffad3e401b812c129d37782842"
  },
  "language_info": {
   "codemirror_mode": {
    "name": "ipython",
    "version": 3
   },
   "file_extension": ".py",
   "mimetype": "text/x-python",
   "name": "python",
   "nbconvert_exporter": "python",
   "pygments_lexer": "ipython3",
   "version": "3.7.1-final"
  }
 },
 "nbformat": 4,
 "nbformat_minor": 2
}