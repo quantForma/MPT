{
 "cells": [
  {
   "cell_type": "code",
   "execution_count": 4,
   "metadata": {},
   "outputs": [],
   "source": [
    "import quandl\n",
    "quandl.ApiConfig.api_key = \"idNBU8ZQFvkUE9fDgWyz\"\n",
    "import numpy as np\n",
    "import pandas as pd"
   ]
  },
  {
   "cell_type": "code",
   "execution_count": 5,
   "metadata": {},
   "outputs": [],
   "source": [
    "prices = quandl.get_table('SHARADAR/SEP', ticker=['AAPL', 'NKE'], date={'gte':'2000-01-01', 'lte':'2018-12-31'}, paginate=True)"
   ]
  },
  {
   "cell_type": "code",
   "execution_count": 6,
   "metadata": {},
   "outputs": [
    {
     "output_type": "execute_result",
     "data": {
      "text/plain": "     ticker       date   open   high     low  close     volume  dividends  \\\nNone                                                                        \n0       NKE 2018-12-31  73.98  74.46  73.515  74.14  5508027.0        0.0   \n1       NKE 2018-12-28  73.97  74.46  72.570  73.34  6195863.0        0.0   \n2       NKE 2018-12-27  72.18  73.73  70.990  73.67  8797973.0        0.0   \n3       NKE 2018-12-26  68.70  73.01  68.650  73.01  9757461.0        0.0   \n4       NKE 2018-12-24  71.40  71.93  68.080  68.10  8551422.0        0.0   \n\n      closeunadj lastupdated  \nNone                          \n0          74.14  2018-12-31  \n1          73.34  2018-12-28  \n2          73.67  2018-12-27  \n3          73.01  2018-12-26  \n4          68.10  2018-12-28  ",
      "text/html": "<div>\n<style scoped>\n    .dataframe tbody tr th:only-of-type {\n        vertical-align: middle;\n    }\n\n    .dataframe tbody tr th {\n        vertical-align: top;\n    }\n\n    .dataframe thead th {\n        text-align: right;\n    }\n</style>\n<table border=\"1\" class=\"dataframe\">\n  <thead>\n    <tr style=\"text-align: right;\">\n      <th></th>\n      <th>ticker</th>\n      <th>date</th>\n      <th>open</th>\n      <th>high</th>\n      <th>low</th>\n      <th>close</th>\n      <th>volume</th>\n      <th>dividends</th>\n      <th>closeunadj</th>\n      <th>lastupdated</th>\n    </tr>\n    <tr>\n      <th>None</th>\n      <th></th>\n      <th></th>\n      <th></th>\n      <th></th>\n      <th></th>\n      <th></th>\n      <th></th>\n      <th></th>\n      <th></th>\n      <th></th>\n    </tr>\n  </thead>\n  <tbody>\n    <tr>\n      <th>0</th>\n      <td>NKE</td>\n      <td>2018-12-31</td>\n      <td>73.98</td>\n      <td>74.46</td>\n      <td>73.515</td>\n      <td>74.14</td>\n      <td>5508027.0</td>\n      <td>0.0</td>\n      <td>74.14</td>\n      <td>2018-12-31</td>\n    </tr>\n    <tr>\n      <th>1</th>\n      <td>NKE</td>\n      <td>2018-12-28</td>\n      <td>73.97</td>\n      <td>74.46</td>\n      <td>72.570</td>\n      <td>73.34</td>\n      <td>6195863.0</td>\n      <td>0.0</td>\n      <td>73.34</td>\n      <td>2018-12-28</td>\n    </tr>\n    <tr>\n      <th>2</th>\n      <td>NKE</td>\n      <td>2018-12-27</td>\n      <td>72.18</td>\n      <td>73.73</td>\n      <td>70.990</td>\n      <td>73.67</td>\n      <td>8797973.0</td>\n      <td>0.0</td>\n      <td>73.67</td>\n      <td>2018-12-27</td>\n    </tr>\n    <tr>\n      <th>3</th>\n      <td>NKE</td>\n      <td>2018-12-26</td>\n      <td>68.70</td>\n      <td>73.01</td>\n      <td>68.650</td>\n      <td>73.01</td>\n      <td>9757461.0</td>\n      <td>0.0</td>\n      <td>73.01</td>\n      <td>2018-12-26</td>\n    </tr>\n    <tr>\n      <th>4</th>\n      <td>NKE</td>\n      <td>2018-12-24</td>\n      <td>71.40</td>\n      <td>71.93</td>\n      <td>68.080</td>\n      <td>68.10</td>\n      <td>8551422.0</td>\n      <td>0.0</td>\n      <td>68.10</td>\n      <td>2018-12-28</td>\n    </tr>\n  </tbody>\n</table>\n</div>"
     },
     "metadata": {},
     "execution_count": 6
    }
   ],
   "source": [
    "prices.head()"
   ]
  },
  {
   "cell_type": "code",
   "execution_count": 4,
   "metadata": {},
   "outputs": [],
   "source": [
    "pivoted = prices.pivot(index='date', columns='ticker', values='close')"
   ]
  },
  {
   "cell_type": "code",
   "execution_count": 5,
   "metadata": {},
   "outputs": [
    {
     "data": {
      "text/html": [
       "<div>\n",
       "<style scoped>\n",
       "    .dataframe tbody tr th:only-of-type {\n",
       "        vertical-align: middle;\n",
       "    }\n",
       "\n",
       "    .dataframe tbody tr th {\n",
       "        vertical-align: top;\n",
       "    }\n",
       "\n",
       "    .dataframe thead th {\n",
       "        text-align: right;\n",
       "    }\n",
       "</style>\n",
       "<table border=\"1\" class=\"dataframe\">\n",
       "  <thead>\n",
       "    <tr style=\"text-align: right;\">\n",
       "      <th>ticker</th>\n",
       "      <th>AAPL</th>\n",
       "      <th>NKE</th>\n",
       "    </tr>\n",
       "    <tr>\n",
       "      <th>date</th>\n",
       "      <th></th>\n",
       "      <th></th>\n",
       "    </tr>\n",
       "  </thead>\n",
       "  <tbody>\n",
       "    <tr>\n",
       "      <th>2000-01-03</th>\n",
       "      <td>3.998</td>\n",
       "      <td>6.015</td>\n",
       "    </tr>\n",
       "    <tr>\n",
       "      <th>2000-01-04</th>\n",
       "      <td>3.661</td>\n",
       "      <td>5.688</td>\n",
       "    </tr>\n",
       "    <tr>\n",
       "      <th>2000-01-05</th>\n",
       "      <td>3.714</td>\n",
       "      <td>6.016</td>\n",
       "    </tr>\n",
       "    <tr>\n",
       "      <th>2000-01-06</th>\n",
       "      <td>3.393</td>\n",
       "      <td>5.985</td>\n",
       "    </tr>\n",
       "    <tr>\n",
       "      <th>2000-01-07</th>\n",
       "      <td>3.554</td>\n",
       "      <td>5.985</td>\n",
       "    </tr>\n",
       "  </tbody>\n",
       "</table>\n",
       "</div>"
      ],
      "text/plain": [
       "ticker       AAPL    NKE\n",
       "date                    \n",
       "2000-01-03  3.998  6.015\n",
       "2000-01-04  3.661  5.688\n",
       "2000-01-05  3.714  6.016\n",
       "2000-01-06  3.393  5.985\n",
       "2000-01-07  3.554  5.985"
      ]
     },
     "execution_count": 5,
     "metadata": {},
     "output_type": "execute_result"
    }
   ],
   "source": [
    "pivoted.head()"
   ]
  },
  {
   "cell_type": "code",
   "execution_count": 6,
   "metadata": {},
   "outputs": [
    {
     "data": {
      "text/html": [
       "<div>\n",
       "<style scoped>\n",
       "    .dataframe tbody tr th:only-of-type {\n",
       "        vertical-align: middle;\n",
       "    }\n",
       "\n",
       "    .dataframe tbody tr th {\n",
       "        vertical-align: top;\n",
       "    }\n",
       "\n",
       "    .dataframe thead th {\n",
       "        text-align: right;\n",
       "    }\n",
       "</style>\n",
       "<table border=\"1\" class=\"dataframe\">\n",
       "  <thead>\n",
       "    <tr style=\"text-align: right;\">\n",
       "      <th>ticker</th>\n",
       "      <th>AAPL</th>\n",
       "      <th>NKE</th>\n",
       "    </tr>\n",
       "    <tr>\n",
       "      <th>ticker</th>\n",
       "      <th></th>\n",
       "      <th></th>\n",
       "    </tr>\n",
       "  </thead>\n",
       "  <tbody>\n",
       "    <tr>\n",
       "      <th>AAPL</th>\n",
       "      <td>0.000720</td>\n",
       "      <td>0.000131</td>\n",
       "    </tr>\n",
       "    <tr>\n",
       "      <th>NKE</th>\n",
       "      <td>0.000131</td>\n",
       "      <td>0.000358</td>\n",
       "    </tr>\n",
       "  </tbody>\n",
       "</table>\n",
       "</div>"
      ],
      "text/plain": [
       "ticker      AAPL       NKE\n",
       "ticker                    \n",
       "AAPL    0.000720  0.000131\n",
       "NKE     0.000131  0.000358"
      ]
     },
     "execution_count": 6,
     "metadata": {},
     "output_type": "execute_result"
    }
   ],
   "source": [
    "cov_matrix = pivoted.pct_change().apply(lambda x: np.log(1+x)).cov()\n",
    "cov_matrix"
   ]
  },
  {
   "cell_type": "markdown",
   "metadata": {},
   "source": [
    "# Portfolio Variance"
   ]
  },
  {
   "cell_type": "markdown",
   "metadata": {},
   "source": [
    "$$\\sigma^2(R_p) = w_1w_1\\sigma^2(R_1) + w_1w_2COV(R_1,R_2) + w_2w_2\\sigma^2(R_2) + w_2w_1COV(R_1,R_2)$$"
   ]
  },
  {
   "cell_type": "markdown",
   "metadata": {},
   "source": [
    "$$\\sigma^2(R_p) = \\sum_{i=1}^n\\sum_{j=1}^nw_iw_jCOV(R_i, R_j)$$"
   ]
  },
  {
   "cell_type": "markdown",
   "metadata": {},
   "source": [
    "# Portfolio Standard Deviation"
   ]
  },
  {
   "cell_type": "markdown",
   "metadata": {},
   "source": [
    "$$\\sigma(R_p) = \\sqrt{\\sigma^2(R_p)}$$"
   ]
  },
  {
   "cell_type": "code",
   "execution_count": 7,
   "metadata": {},
   "outputs": [],
   "source": [
    "w = {'AAPL':.75, 'NKE':.25}"
   ]
  },
  {
   "cell_type": "code",
   "execution_count": 11,
   "metadata": {},
   "outputs": [
    {
     "data": {
      "text/plain": [
       "0.0004765148759613379"
      ]
     },
     "execution_count": 11,
     "metadata": {},
     "output_type": "execute_result"
    }
   ],
   "source": [
    "cov_matrix.mul(w, axis=0).mul(w, axis=1).sum().sum()"
   ]
  },
  {
   "cell_type": "code",
   "execution_count": null,
   "metadata": {},
   "outputs": [],
   "source": []
  }
 ],
 "metadata": {
  "kernelspec": {
   "display_name": "Python 3.7.1 64-bit ('quant': conda)",
   "language": "python",
   "name": "python37164bitquantcondaf5cd01ffad3e401b812c129d37782842"
  },
  "language_info": {
   "codemirror_mode": {
    "name": "ipython",
    "version": 3
   },
   "file_extension": ".py",
   "mimetype": "text/x-python",
   "name": "python",
   "nbconvert_exporter": "python",
   "pygments_lexer": "ipython3",
   "version": "3.7.1-final"
  }
 },
 "nbformat": 4,
 "nbformat_minor": 2
}